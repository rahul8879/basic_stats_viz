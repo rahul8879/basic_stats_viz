{
 "cells": [
  {
   "cell_type": "markdown",
   "id": "32352d18",
   "metadata": {},
   "source": [
    "\n",
    "# Exploring Relative Frequency Tables\n",
    "\n",
    "In this notebook, we dive into **relative frequency tables**, a versatile tool for converting raw data into proportions or percentages. This transformation allows us to compare data more effectively across categories.\n",
    "\n",
    "---\n",
    "\n",
    "## What Are Relative Frequency Tables?\n",
    "Relative frequency tables convert raw counts into proportions or percentages. They can be:\n",
    "- **Column-Relative Frequency Tables**: Each column sums to 1.00.\n",
    "- **Row-Relative Frequency Tables**: Each row sums to 1.00.\n",
    "- **Total-Relative Frequency Tables**: All values are divided by the grand total.\n",
    "\n",
    "### Let's explore this concept with examples.\n"
   ]
  },
  {
   "cell_type": "markdown",
   "id": "ad3e2a68",
   "metadata": {},
   "source": [
    "\n",
    "## Example 1: Surfboards by Type and Color\n",
    "\n",
    "We have data on surfboards categorized by their type (longboard or shortboard) and color (blue or white):\n",
    "\n",
    "|            | Blue | White |\n",
    "|------------|------|-------|\n",
    "| Longboard  | 20   | 15    |\n",
    "| Shortboard | 5    | 3     |\n",
    "\n",
    "Let's transform this data into relative frequency tables.\n"
   ]
  },
  {
   "cell_type": "code",
   "execution_count": 1,
   "id": "9de410fb",
   "metadata": {},
   "outputs": [
    {
     "data": {
      "text/html": [
       "<div>\n",
       "<style scoped>\n",
       "    .dataframe tbody tr th:only-of-type {\n",
       "        vertical-align: middle;\n",
       "    }\n",
       "\n",
       "    .dataframe tbody tr th {\n",
       "        vertical-align: top;\n",
       "    }\n",
       "\n",
       "    .dataframe thead th {\n",
       "        text-align: right;\n",
       "    }\n",
       "</style>\n",
       "<table border=\"1\" class=\"dataframe\">\n",
       "  <thead>\n",
       "    <tr style=\"text-align: right;\">\n",
       "      <th></th>\n",
       "      <th>Blue</th>\n",
       "      <th>White</th>\n",
       "    </tr>\n",
       "    <tr>\n",
       "      <th>Type</th>\n",
       "      <th></th>\n",
       "      <th></th>\n",
       "    </tr>\n",
       "  </thead>\n",
       "  <tbody>\n",
       "    <tr>\n",
       "      <th>Longboard</th>\n",
       "      <td>20</td>\n",
       "      <td>15</td>\n",
       "    </tr>\n",
       "    <tr>\n",
       "      <th>Shortboard</th>\n",
       "      <td>5</td>\n",
       "      <td>3</td>\n",
       "    </tr>\n",
       "  </tbody>\n",
       "</table>\n",
       "</div>"
      ],
      "text/plain": [
       "            Blue  White\n",
       "Type                   \n",
       "Longboard     20     15\n",
       "Shortboard     5      3"
      ]
     },
     "execution_count": 1,
     "metadata": {},
     "output_type": "execute_result"
    }
   ],
   "source": [
    "import pandas as pd\n",
    "# Surfboards Data\n",
    "surfboards_data = pd.DataFrame({\n",
    "    \"Type\": [\"Longboard\", \"Shortboard\"],\n",
    "    \"Blue\": [20, 5],\n",
    "    \"White\": [15, 3]\n",
    "}).set_index(\"Type\")\n",
    "\n",
    "# Display the raw data\n",
    "surfboards_data\n"
   ]
  },
  {
   "cell_type": "markdown",
   "id": "123c6019",
   "metadata": {},
   "source": [
    "\n",
    "## Column-Relative Frequency Table\n",
    "\n",
    "We calculate the relative frequency for each column by dividing each value by the column's total.\n"
   ]
  },
  {
   "cell_type": "code",
   "execution_count": 3,
   "id": "b407de56",
   "metadata": {},
   "outputs": [
    {
     "data": {
      "text/html": [
       "<div>\n",
       "<style scoped>\n",
       "    .dataframe tbody tr th:only-of-type {\n",
       "        vertical-align: middle;\n",
       "    }\n",
       "\n",
       "    .dataframe tbody tr th {\n",
       "        vertical-align: top;\n",
       "    }\n",
       "\n",
       "    .dataframe thead th {\n",
       "        text-align: right;\n",
       "    }\n",
       "</style>\n",
       "<table border=\"1\" class=\"dataframe\">\n",
       "  <thead>\n",
       "    <tr style=\"text-align: right;\">\n",
       "      <th></th>\n",
       "      <th>Blue</th>\n",
       "      <th>White</th>\n",
       "    </tr>\n",
       "    <tr>\n",
       "      <th>Type</th>\n",
       "      <th></th>\n",
       "      <th></th>\n",
       "    </tr>\n",
       "  </thead>\n",
       "  <tbody>\n",
       "    <tr>\n",
       "      <th>Longboard</th>\n",
       "      <td>0.8</td>\n",
       "      <td>0.833</td>\n",
       "    </tr>\n",
       "    <tr>\n",
       "      <th>Shortboard</th>\n",
       "      <td>0.2</td>\n",
       "      <td>0.167</td>\n",
       "    </tr>\n",
       "    <tr>\n",
       "      <th>Total</th>\n",
       "      <td>1.0</td>\n",
       "      <td>1.000</td>\n",
       "    </tr>\n",
       "  </tbody>\n",
       "</table>\n",
       "</div>"
      ],
      "text/plain": [
       "            Blue  White\n",
       "Type                   \n",
       "Longboard    0.8  0.833\n",
       "Shortboard   0.2  0.167\n",
       "Total        1.0  1.000"
      ]
     },
     "execution_count": 3,
     "metadata": {},
     "output_type": "execute_result"
    }
   ],
   "source": [
    "\n",
    "# Column-Relative Frequency Table\n",
    "column_totals = surfboards_data.sum(axis=0)\n",
    "column_relative = surfboards_data.div(column_totals, axis=1).round(3)\n",
    "column_relative.loc[\"Total\"] = column_relative.sum()\n",
    "column_relative\n"
   ]
  },
  {
   "cell_type": "markdown",
   "id": "d594645c",
   "metadata": {},
   "source": [
    "\n",
    "## Row-Relative Frequency Table\n",
    "\n",
    "We calculate the relative frequency for each row by dividing each value by the row's total.\n"
   ]
  },
  {
   "cell_type": "code",
   "execution_count": 4,
   "id": "55eb0c83",
   "metadata": {},
   "outputs": [
    {
     "data": {
      "text/html": [
       "<div>\n",
       "<style scoped>\n",
       "    .dataframe tbody tr th:only-of-type {\n",
       "        vertical-align: middle;\n",
       "    }\n",
       "\n",
       "    .dataframe tbody tr th {\n",
       "        vertical-align: top;\n",
       "    }\n",
       "\n",
       "    .dataframe thead th {\n",
       "        text-align: right;\n",
       "    }\n",
       "</style>\n",
       "<table border=\"1\" class=\"dataframe\">\n",
       "  <thead>\n",
       "    <tr style=\"text-align: right;\">\n",
       "      <th></th>\n",
       "      <th>Blue</th>\n",
       "      <th>White</th>\n",
       "      <th>Total</th>\n",
       "    </tr>\n",
       "    <tr>\n",
       "      <th>Type</th>\n",
       "      <th></th>\n",
       "      <th></th>\n",
       "      <th></th>\n",
       "    </tr>\n",
       "  </thead>\n",
       "  <tbody>\n",
       "    <tr>\n",
       "      <th>Longboard</th>\n",
       "      <td>0.571</td>\n",
       "      <td>0.429</td>\n",
       "      <td>1.0</td>\n",
       "    </tr>\n",
       "    <tr>\n",
       "      <th>Shortboard</th>\n",
       "      <td>0.625</td>\n",
       "      <td>0.375</td>\n",
       "      <td>1.0</td>\n",
       "    </tr>\n",
       "  </tbody>\n",
       "</table>\n",
       "</div>"
      ],
      "text/plain": [
       "             Blue  White  Total\n",
       "Type                           \n",
       "Longboard   0.571  0.429    1.0\n",
       "Shortboard  0.625  0.375    1.0"
      ]
     },
     "execution_count": 4,
     "metadata": {},
     "output_type": "execute_result"
    }
   ],
   "source": [
    "\n",
    "# Row-Relative Frequency Table\n",
    "row_totals = surfboards_data.sum(axis=1)\n",
    "row_relative = surfboards_data.div(row_totals, axis=0).round(3)\n",
    "row_relative[\"Total\"] = row_relative.sum(axis=1)\n",
    "row_relative\n"
   ]
  },
  {
   "cell_type": "markdown",
   "id": "7f337941",
   "metadata": {},
   "source": [
    "\n",
    "## Total-Relative Frequency Table\n",
    "\n",
    "We calculate the relative frequency for the entire table by dividing each value by the grand total.\n"
   ]
  },
  {
   "cell_type": "code",
   "execution_count": 5,
   "id": "b9357a88",
   "metadata": {},
   "outputs": [
    {
     "data": {
      "text/html": [
       "<div>\n",
       "<style scoped>\n",
       "    .dataframe tbody tr th:only-of-type {\n",
       "        vertical-align: middle;\n",
       "    }\n",
       "\n",
       "    .dataframe tbody tr th {\n",
       "        vertical-align: top;\n",
       "    }\n",
       "\n",
       "    .dataframe thead th {\n",
       "        text-align: right;\n",
       "    }\n",
       "</style>\n",
       "<table border=\"1\" class=\"dataframe\">\n",
       "  <thead>\n",
       "    <tr style=\"text-align: right;\">\n",
       "      <th></th>\n",
       "      <th>Blue</th>\n",
       "      <th>White</th>\n",
       "      <th>Total</th>\n",
       "    </tr>\n",
       "    <tr>\n",
       "      <th>Type</th>\n",
       "      <th></th>\n",
       "      <th></th>\n",
       "      <th></th>\n",
       "    </tr>\n",
       "  </thead>\n",
       "  <tbody>\n",
       "    <tr>\n",
       "      <th>Longboard</th>\n",
       "      <td>0.465</td>\n",
       "      <td>0.349</td>\n",
       "      <td>0.814</td>\n",
       "    </tr>\n",
       "    <tr>\n",
       "      <th>Shortboard</th>\n",
       "      <td>0.116</td>\n",
       "      <td>0.070</td>\n",
       "      <td>0.186</td>\n",
       "    </tr>\n",
       "    <tr>\n",
       "      <th>Total</th>\n",
       "      <td>0.581</td>\n",
       "      <td>0.419</td>\n",
       "      <td>1.000</td>\n",
       "    </tr>\n",
       "  </tbody>\n",
       "</table>\n",
       "</div>"
      ],
      "text/plain": [
       "             Blue  White  Total\n",
       "Type                           \n",
       "Longboard   0.465  0.349  0.814\n",
       "Shortboard  0.116  0.070  0.186\n",
       "Total       0.581  0.419  1.000"
      ]
     },
     "execution_count": 5,
     "metadata": {},
     "output_type": "execute_result"
    }
   ],
   "source": [
    "\n",
    "# Total-Relative Frequency Table\n",
    "grand_total = surfboards_data.values.sum()\n",
    "total_relative = surfboards_data.div(grand_total).round(3)\n",
    "total_relative.loc[\"Total\"] = total_relative.sum()\n",
    "total_relative[\"Total\"] = total_relative.sum(axis=1)\n",
    "total_relative\n"
   ]
  },
  {
   "cell_type": "markdown",
   "id": "6f9790b2",
   "metadata": {},
   "source": [
    "\n",
    "## Visualizing Relative Frequencies\n",
    "\n",
    "Let's visualize the column-relative frequencies using bar plots.\n"
   ]
  },
  {
   "cell_type": "code",
   "execution_count": 6,
   "id": "f56afdef",
   "metadata": {},
   "outputs": [
    {
     "data": {
      "image/png": "[encoded data removed]",
      "text/plain": [
       "<Figure size 800x600 with 1 Axes>"
      ]
     },
     "metadata": {},
     "output_type": "display_data"
    }
   ],
   "source": [
    "import matplotlib.pyplot as plt\n",
    "\n",
    "\n",
    "# Bar Plot for Column-Relative Frequencies\n",
    "\n",
    "column_relative = column_relative.drop(\"Total\")\n",
    "\n",
    "column_relative.T.plot(kind=\"bar\", figsize=(8, 6), stacked=True, colormap=\"viridis\")\n",
    "\n",
    "plt.title(\"Column-Relative Frequency of Surfboards by Type and Color\", fontsize=14)\n",
    "\n",
    "plt.xlabel(\"Color\", fontsize=12)\n",
    "\n",
    "plt.ylabel(\"Relative Frequency\", fontsize=12)\n",
    "\n",
    "plt.legend(title=\"Type\", loc=\"upper right\")\n",
    "\n",
    "plt.tight_layout()\n",
    "\n",
    "plt.show()"
   ]
  },
  {
   "cell_type": "code",
   "execution_count": null,
   "id": "deb5b65b",
   "metadata": {},
   "outputs": [],
   "source": []
  }
 ],
 "metadata": {
  "kernelspec": {
   "display_name": "pd-env",
   "language": "python",
   "name": "python3"
  },
  "language_info": {
   "codemirror_mode": {
    "name": "ipython",
    "version": 3
   },
   "file_extension": ".py",
   "mimetype": "text/x-python",
   "name": "python",
   "nbconvert_exporter": "python",
   "pygments_lexer": "ipython3",
   "version": "3.11.4"
  }
 },
 "nbformat": 4,
 "nbformat_minor": 5
}
