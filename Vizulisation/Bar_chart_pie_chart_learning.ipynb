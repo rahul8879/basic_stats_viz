{
 "cells": [
  {
   "cell_type": "markdown",
   "id": "9ca7a3f7",
   "metadata": {},
   "source": [
    "\n",
    "# Visualizing Olympic Host Data: A Story Through Charts\n",
    "\n",
    "This notebook guides you through the process of creating bar graphs and pie charts based on historical Olympic host data.\n",
    "We will transform raw data into visually compelling insights while learning about data visualization techniques.\n",
    "\n",
    "---\n",
    "\n",
    "## Why Bar Graphs and Pie Charts?\n",
    "- Bar graphs are excellent for comparing quantities across categories.\n",
    "- Pie charts provide an intuitive way to understand proportions.\n",
    "\n",
    "Let's dive in with the data!\n"
   ]
  },
  {
   "cell_type": "markdown",
   "id": "5ec9f160",
   "metadata": {},
   "source": [
    "\n",
    "## Raw Data: Host Cities for Summer and Winter Olympics\n",
    "\n",
    "Here are the complete datasets for Summer and Winter Olympic host cities and their continents.\n",
    "\n",
    "### Summer Olympics Raw Data\n"
   ]
  },
  {
   "cell_type": "code",
   "execution_count": null,
   "id": "1da44733",
   "metadata": {},
   "outputs": [
    {
     "data": {
      "text/html": [
       "<div>\n",
       "<style scoped>\n",
       "    .dataframe tbody tr th:only-of-type {\n",
       "        vertical-align: middle;\n",
       "    }\n",
       "\n",
       "    .dataframe tbody tr th {\n",
       "        vertical-align: top;\n",
       "    }\n",
       "\n",
       "    .dataframe thead th {\n",
       "        text-align: right;\n",
       "    }\n",
       "</style>\n",
       "<table border=\"1\" class=\"dataframe\">\n",
       "  <thead>\n",
       "    <tr style=\"text-align: right;\">\n",
       "      <th></th>\n",
       "      <th>Games</th>\n",
       "      <th>Year</th>\n",
       "      <th>City, Country</th>\n",
       "      <th>Continent</th>\n",
       "    </tr>\n",
       "  </thead>\n",
       "  <tbody>\n",
       "    <tr>\n",
       "      <th>0</th>\n",
       "      <td>I</td>\n",
       "      <td>1896</td>\n",
       "      <td>Athens, Greece</td>\n",
       "      <td>Europe</td>\n",
       "    </tr>\n",
       "    <tr>\n",
       "      <th>1</th>\n",
       "      <td>II</td>\n",
       "      <td>1900</td>\n",
       "      <td>Paris, France</td>\n",
       "      <td>Europe</td>\n",
       "    </tr>\n",
       "    <tr>\n",
       "      <th>2</th>\n",
       "      <td>III</td>\n",
       "      <td>1904</td>\n",
       "      <td>St. Louis, United States</td>\n",
       "      <td>North America</td>\n",
       "    </tr>\n",
       "    <tr>\n",
       "      <th>3</th>\n",
       "      <td>IV</td>\n",
       "      <td>1908</td>\n",
       "      <td>London, United Kingdom</td>\n",
       "      <td>Europe</td>\n",
       "    </tr>\n",
       "    <tr>\n",
       "      <th>4</th>\n",
       "      <td>V</td>\n",
       "      <td>1912</td>\n",
       "      <td>Stockholm, Sweden</td>\n",
       "      <td>Europe</td>\n",
       "    </tr>\n",
       "    <tr>\n",
       "      <th>5</th>\n",
       "      <td>VII</td>\n",
       "      <td>1920</td>\n",
       "      <td>Antwerp, Belgium</td>\n",
       "      <td>Europe</td>\n",
       "    </tr>\n",
       "    <tr>\n",
       "      <th>6</th>\n",
       "      <td>VIII</td>\n",
       "      <td>1924</td>\n",
       "      <td>Paris, France</td>\n",
       "      <td>Europe</td>\n",
       "    </tr>\n",
       "    <tr>\n",
       "      <th>7</th>\n",
       "      <td>IX</td>\n",
       "      <td>1928</td>\n",
       "      <td>Amsterdam, Netherlands</td>\n",
       "      <td>Europe</td>\n",
       "    </tr>\n",
       "    <tr>\n",
       "      <th>8</th>\n",
       "      <td>X</td>\n",
       "      <td>1932</td>\n",
       "      <td>Los Angeles, United States</td>\n",
       "      <td>North America</td>\n",
       "    </tr>\n",
       "    <tr>\n",
       "      <th>9</th>\n",
       "      <td>XI</td>\n",
       "      <td>1936</td>\n",
       "      <td>Berlin, Germany</td>\n",
       "      <td>Europe</td>\n",
       "    </tr>\n",
       "    <tr>\n",
       "      <th>10</th>\n",
       "      <td>XIV</td>\n",
       "      <td>1948</td>\n",
       "      <td>London, United Kingdom</td>\n",
       "      <td>Europe</td>\n",
       "    </tr>\n",
       "    <tr>\n",
       "      <th>11</th>\n",
       "      <td>XV</td>\n",
       "      <td>1952</td>\n",
       "      <td>Helsinki, Finland</td>\n",
       "      <td>Europe</td>\n",
       "    </tr>\n",
       "    <tr>\n",
       "      <th>12</th>\n",
       "      <td>XVI</td>\n",
       "      <td>1956</td>\n",
       "      <td>Melbourne, Australia</td>\n",
       "      <td>Australia</td>\n",
       "    </tr>\n",
       "    <tr>\n",
       "      <th>13</th>\n",
       "      <td>XVII</td>\n",
       "      <td>1960</td>\n",
       "      <td>Rome, Italy</td>\n",
       "      <td>Europe</td>\n",
       "    </tr>\n",
       "    <tr>\n",
       "      <th>14</th>\n",
       "      <td>XVIII</td>\n",
       "      <td>1964</td>\n",
       "      <td>Tokyo, Japan</td>\n",
       "      <td>Asia</td>\n",
       "    </tr>\n",
       "    <tr>\n",
       "      <th>15</th>\n",
       "      <td>XIX</td>\n",
       "      <td>1968</td>\n",
       "      <td>Mexico City, Mexico</td>\n",
       "      <td>North America</td>\n",
       "    </tr>\n",
       "    <tr>\n",
       "      <th>16</th>\n",
       "      <td>XX</td>\n",
       "      <td>1972</td>\n",
       "      <td>Munich, West Germany</td>\n",
       "      <td>Europe</td>\n",
       "    </tr>\n",
       "    <tr>\n",
       "      <th>17</th>\n",
       "      <td>XXI</td>\n",
       "      <td>1976</td>\n",
       "      <td>Montreal, Canada</td>\n",
       "      <td>North America</td>\n",
       "    </tr>\n",
       "    <tr>\n",
       "      <th>18</th>\n",
       "      <td>XXII</td>\n",
       "      <td>1980</td>\n",
       "      <td>Moscow, Soviet Union</td>\n",
       "      <td>Europe</td>\n",
       "    </tr>\n",
       "    <tr>\n",
       "      <th>19</th>\n",
       "      <td>XXIII</td>\n",
       "      <td>1984</td>\n",
       "      <td>Los Angeles, United States</td>\n",
       "      <td>North America</td>\n",
       "    </tr>\n",
       "    <tr>\n",
       "      <th>20</th>\n",
       "      <td>XXIV</td>\n",
       "      <td>1988</td>\n",
       "      <td>Seoul, South Korea</td>\n",
       "      <td>Asia</td>\n",
       "    </tr>\n",
       "    <tr>\n",
       "      <th>21</th>\n",
       "      <td>XXV</td>\n",
       "      <td>1992</td>\n",
       "      <td>Barcelona, Spain</td>\n",
       "      <td>Europe</td>\n",
       "    </tr>\n",
       "    <tr>\n",
       "      <th>22</th>\n",
       "      <td>XXVI</td>\n",
       "      <td>1996</td>\n",
       "      <td>Atlanta, United States</td>\n",
       "      <td>North America</td>\n",
       "    </tr>\n",
       "    <tr>\n",
       "      <th>23</th>\n",
       "      <td>XXVII</td>\n",
       "      <td>2000</td>\n",
       "      <td>Sydney, Australia</td>\n",
       "      <td>Australia</td>\n",
       "    </tr>\n",
       "    <tr>\n",
       "      <th>24</th>\n",
       "      <td>XXVIII</td>\n",
       "      <td>2004</td>\n",
       "      <td>Athens, Greece</td>\n",
       "      <td>Europe</td>\n",
       "    </tr>\n",
       "    <tr>\n",
       "      <th>25</th>\n",
       "      <td>XXIX</td>\n",
       "      <td>2008</td>\n",
       "      <td>Beijing, China</td>\n",
       "      <td>Asia</td>\n",
       "    </tr>\n",
       "    <tr>\n",
       "      <th>26</th>\n",
       "      <td>XXX</td>\n",
       "      <td>2012</td>\n",
       "      <td>London, United Kingdom</td>\n",
       "      <td>Europe</td>\n",
       "    </tr>\n",
       "    <tr>\n",
       "      <th>27</th>\n",
       "      <td>XXXI</td>\n",
       "      <td>2016</td>\n",
       "      <td>Rio de Janeiro, Brazil</td>\n",
       "      <td>South America</td>\n",
       "    </tr>\n",
       "  </tbody>\n",
       "</table>\n",
       "</div>"
      ],
      "text/plain": [
       "     Games  Year               City, Country      Continent\n",
       "0        I  1896              Athens, Greece         Europe\n",
       "1       II  1900               Paris, France         Europe\n",
       "2      III  1904    St. Louis, United States  North America\n",
       "3       IV  1908      London, United Kingdom         Europe\n",
       "4        V  1912           Stockholm, Sweden         Europe\n",
       "5      VII  1920            Antwerp, Belgium         Europe\n",
       "6     VIII  1924               Paris, France         Europe\n",
       "7       IX  1928      Amsterdam, Netherlands         Europe\n",
       "8        X  1932  Los Angeles, United States  North America\n",
       "9       XI  1936             Berlin, Germany         Europe\n",
       "10     XIV  1948      London, United Kingdom         Europe\n",
       "11      XV  1952           Helsinki, Finland         Europe\n",
       "12     XVI  1956        Melbourne, Australia      Australia\n",
       "13    XVII  1960                 Rome, Italy         Europe\n",
       "14   XVIII  1964                Tokyo, Japan           Asia\n",
       "15     XIX  1968         Mexico City, Mexico  North America\n",
       "16      XX  1972        Munich, West Germany         Europe\n",
       "17     XXI  1976            Montreal, Canada  North America\n",
       "18    XXII  1980        Moscow, Soviet Union         Europe\n",
       "19   XXIII  1984  Los Angeles, United States  North America\n",
       "20    XXIV  1988          Seoul, South Korea           Asia\n",
       "21     XXV  1992            Barcelona, Spain         Europe\n",
       "22    XXVI  1996      Atlanta, United States  North America\n",
       "23   XXVII  2000           Sydney, Australia      Australia\n",
       "24  XXVIII  2004              Athens, Greece         Europe\n",
       "25    XXIX  2008              Beijing, China           Asia\n",
       "26     XXX  2012      London, United Kingdom         Europe\n",
       "27    XXXI  2016      Rio de Janeiro, Brazil  South America"
      ]
     },
     "execution_count": 1,
     "metadata": {},
     "output_type": "execute_result"
    }
   ],
   "source": [
    "import pandas as pd\n",
    "\n",
    "summer_raw = pd.DataFrame({\n",
    "    \"Games\": [\"I\", \"II\", \"III\", \"IV\", \"V\", \"VII\", \"VIII\", \"IX\", \"X\", \"XI\", \"XIV\", \"XV\", \"XVI\", \"XVII\", \"XVIII\",\n",
    "              \"XIX\", \"XX\", \"XXI\", \"XXII\", \"XXIII\", \"XXIV\", \"XXV\", \"XXVI\", \"XXVII\", \"XXVIII\", \"XXIX\", \"XXX\", \"XXXI\"],\n",
    "    \"Year\": [1896, 1900, 1904, 1908, 1912, 1920, 1924, 1928, 1932, 1936, 1948, 1952, 1956, 1960, 1964, 1968, 1972, \n",
    "             1976, 1980, 1984, 1988, 1992, 1996, 2000, 2004, 2008, 2012, 2016],\n",
    "    \"City, Country\": [\"Athens, Greece\", \"Paris, France\", \"St. Louis, United States\", \"London, United Kingdom\",\n",
    "                      \"Stockholm, Sweden\", \"Antwerp, Belgium\", \"Paris, France\", \"Amsterdam, Netherlands\",\n",
    "                      \"Los Angeles, United States\", \"Berlin, Germany\", \"London, United Kingdom\", \"Helsinki, Finland\",\n",
    "                      \"Melbourne, Australia\", \"Rome, Italy\", \"Tokyo, Japan\", \"Mexico City, Mexico\", \"Munich, West Germany\",\n",
    "                      \"Montreal, Canada\", \"Moscow, Soviet Union\", \"Los Angeles, United States\", \"Seoul, South Korea\",\n",
    "                      \"Barcelona, Spain\", \"Atlanta, United States\", \"Sydney, Australia\", \"Athens, Greece\",\n",
    "                      \"Beijing, China\", \"London, United Kingdom\", \"Rio de Janeiro, Brazil\"],\n",
    "    \"Continent\": [\"Europe\", \"Europe\", \"North America\", \"Europe\", \"Europe\", \"Europe\", \"Europe\", \"Europe\", \"North America\",\n",
    "                  \"Europe\", \"Europe\", \"Europe\", \"Australia\", \"Europe\", \"Asia\", \"North America\", \"Europe\", \"North America\",\n",
    "                  \"Europe\", \"North America\", \"Asia\", \"Europe\", \"North America\", \"Australia\", \"Europe\", \"Asia\", \"Europe\",\n",
    "                  \"South America\"]\n",
    "})\n",
    "\n",
    "\n",
    "summer_raw\n"
   ]
  },
  {
   "cell_type": "markdown",
   "id": "44a02003",
   "metadata": {},
   "source": [
    "\n",
    "### Winter Olympics Raw Data\n"
   ]
  },
  {
   "cell_type": "code",
   "execution_count": null,
   "id": "e8c05346",
   "metadata": {},
   "outputs": [
    {
     "data": {
      "text/html": [
       "<div>\n",
       "<style scoped>\n",
       "    .dataframe tbody tr th:only-of-type {\n",
       "        vertical-align: middle;\n",
       "    }\n",
       "\n",
       "    .dataframe tbody tr th {\n",
       "        vertical-align: top;\n",
       "    }\n",
       "\n",
       "    .dataframe thead th {\n",
       "        text-align: right;\n",
       "    }\n",
       "</style>\n",
       "<table border=\"1\" class=\"dataframe\">\n",
       "  <thead>\n",
       "    <tr style=\"text-align: right;\">\n",
       "      <th></th>\n",
       "      <th>Games</th>\n",
       "      <th>Year</th>\n",
       "      <th>City, Country</th>\n",
       "      <th>Continent</th>\n",
       "    </tr>\n",
       "  </thead>\n",
       "  <tbody>\n",
       "    <tr>\n",
       "      <th>0</th>\n",
       "      <td>I</td>\n",
       "      <td>1924</td>\n",
       "      <td>Chamonix, France</td>\n",
       "      <td>Europe</td>\n",
       "    </tr>\n",
       "    <tr>\n",
       "      <th>1</th>\n",
       "      <td>II</td>\n",
       "      <td>1928</td>\n",
       "      <td>St. Moritz, Switzerland</td>\n",
       "      <td>Europe</td>\n",
       "    </tr>\n",
       "    <tr>\n",
       "      <th>2</th>\n",
       "      <td>III</td>\n",
       "      <td>1932</td>\n",
       "      <td>Lake Placid, United States</td>\n",
       "      <td>North America</td>\n",
       "    </tr>\n",
       "    <tr>\n",
       "      <th>3</th>\n",
       "      <td>IV</td>\n",
       "      <td>1936</td>\n",
       "      <td>Garmisch-Partenkirchen, Germany</td>\n",
       "      <td>Europe</td>\n",
       "    </tr>\n",
       "    <tr>\n",
       "      <th>4</th>\n",
       "      <td>V</td>\n",
       "      <td>1948</td>\n",
       "      <td>St. Moritz, Switzerland</td>\n",
       "      <td>Europe</td>\n",
       "    </tr>\n",
       "    <tr>\n",
       "      <th>5</th>\n",
       "      <td>VI</td>\n",
       "      <td>1952</td>\n",
       "      <td>Oslo, Norway</td>\n",
       "      <td>Europe</td>\n",
       "    </tr>\n",
       "    <tr>\n",
       "      <th>6</th>\n",
       "      <td>VII</td>\n",
       "      <td>1956</td>\n",
       "      <td>Cortina d'Ampezzo, Italy</td>\n",
       "      <td>Europe</td>\n",
       "    </tr>\n",
       "    <tr>\n",
       "      <th>7</th>\n",
       "      <td>VIII</td>\n",
       "      <td>1960</td>\n",
       "      <td>Squaw Valley, United States</td>\n",
       "      <td>North America</td>\n",
       "    </tr>\n",
       "    <tr>\n",
       "      <th>8</th>\n",
       "      <td>IX</td>\n",
       "      <td>1964</td>\n",
       "      <td>Innsbruck, Austria</td>\n",
       "      <td>Europe</td>\n",
       "    </tr>\n",
       "    <tr>\n",
       "      <th>9</th>\n",
       "      <td>X</td>\n",
       "      <td>1968</td>\n",
       "      <td>Grenoble, France</td>\n",
       "      <td>Europe</td>\n",
       "    </tr>\n",
       "    <tr>\n",
       "      <th>10</th>\n",
       "      <td>XI</td>\n",
       "      <td>1972</td>\n",
       "      <td>Sapporo, Japan</td>\n",
       "      <td>Asia</td>\n",
       "    </tr>\n",
       "    <tr>\n",
       "      <th>11</th>\n",
       "      <td>XII</td>\n",
       "      <td>1976</td>\n",
       "      <td>Innsbruck, Austria</td>\n",
       "      <td>Europe</td>\n",
       "    </tr>\n",
       "    <tr>\n",
       "      <th>12</th>\n",
       "      <td>XIII</td>\n",
       "      <td>1980</td>\n",
       "      <td>Lake Placid, United States</td>\n",
       "      <td>North America</td>\n",
       "    </tr>\n",
       "    <tr>\n",
       "      <th>13</th>\n",
       "      <td>XIV</td>\n",
       "      <td>1984</td>\n",
       "      <td>Sarajevo, Yugoslavia</td>\n",
       "      <td>Europe</td>\n",
       "    </tr>\n",
       "    <tr>\n",
       "      <th>14</th>\n",
       "      <td>XV</td>\n",
       "      <td>1988</td>\n",
       "      <td>Calgary, Canada</td>\n",
       "      <td>North America</td>\n",
       "    </tr>\n",
       "    <tr>\n",
       "      <th>15</th>\n",
       "      <td>XVI</td>\n",
       "      <td>1992</td>\n",
       "      <td>Albertville, France</td>\n",
       "      <td>Europe</td>\n",
       "    </tr>\n",
       "    <tr>\n",
       "      <th>16</th>\n",
       "      <td>XVII</td>\n",
       "      <td>1994</td>\n",
       "      <td>Lillehammer, Norway</td>\n",
       "      <td>Europe</td>\n",
       "    </tr>\n",
       "    <tr>\n",
       "      <th>17</th>\n",
       "      <td>XVIII</td>\n",
       "      <td>1998</td>\n",
       "      <td>Nagano, Japan</td>\n",
       "      <td>Asia</td>\n",
       "    </tr>\n",
       "    <tr>\n",
       "      <th>18</th>\n",
       "      <td>XIX</td>\n",
       "      <td>2002</td>\n",
       "      <td>Salt Lake City, United States</td>\n",
       "      <td>North America</td>\n",
       "    </tr>\n",
       "    <tr>\n",
       "      <th>19</th>\n",
       "      <td>XX</td>\n",
       "      <td>2006</td>\n",
       "      <td>Turin, Italy</td>\n",
       "      <td>Europe</td>\n",
       "    </tr>\n",
       "    <tr>\n",
       "      <th>20</th>\n",
       "      <td>XXI</td>\n",
       "      <td>2010</td>\n",
       "      <td>Vancouver, Canada</td>\n",
       "      <td>North America</td>\n",
       "    </tr>\n",
       "    <tr>\n",
       "      <th>21</th>\n",
       "      <td>XXII</td>\n",
       "      <td>2014</td>\n",
       "      <td>Sochi, Russia</td>\n",
       "      <td>Europe</td>\n",
       "    </tr>\n",
       "    <tr>\n",
       "      <th>22</th>\n",
       "      <td>XXIII</td>\n",
       "      <td>2018</td>\n",
       "      <td>Pyeongchang, South Korea</td>\n",
       "      <td>Asia</td>\n",
       "    </tr>\n",
       "  </tbody>\n",
       "</table>\n",
       "</div>"
      ],
      "text/plain": [
       "    Games  Year                    City, Country      Continent\n",
       "0       I  1924                 Chamonix, France         Europe\n",
       "1      II  1928          St. Moritz, Switzerland         Europe\n",
       "2     III  1932       Lake Placid, United States  North America\n",
       "3      IV  1936  Garmisch-Partenkirchen, Germany         Europe\n",
       "4       V  1948          St. Moritz, Switzerland         Europe\n",
       "5      VI  1952                     Oslo, Norway         Europe\n",
       "6     VII  1956         Cortina d'Ampezzo, Italy         Europe\n",
       "7    VIII  1960      Squaw Valley, United States  North America\n",
       "8      IX  1964               Innsbruck, Austria         Europe\n",
       "9       X  1968                 Grenoble, France         Europe\n",
       "10     XI  1972                   Sapporo, Japan           Asia\n",
       "11    XII  1976               Innsbruck, Austria         Europe\n",
       "12   XIII  1980       Lake Placid, United States  North America\n",
       "13    XIV  1984             Sarajevo, Yugoslavia         Europe\n",
       "14     XV  1988                  Calgary, Canada  North America\n",
       "15    XVI  1992              Albertville, France         Europe\n",
       "16   XVII  1994              Lillehammer, Norway         Europe\n",
       "17  XVIII  1998                    Nagano, Japan           Asia\n",
       "18    XIX  2002    Salt Lake City, United States  North America\n",
       "19     XX  2006                     Turin, Italy         Europe\n",
       "20    XXI  2010                Vancouver, Canada  North America\n",
       "21   XXII  2014                    Sochi, Russia         Europe\n",
       "22  XXIII  2018         Pyeongchang, South Korea           Asia"
      ]
     },
     "execution_count": 2,
     "metadata": {},
     "output_type": "execute_result"
    }
   ],
   "source": [
    "\n",
    "# Winter Olympics Host Data\n",
    "winter_raw = pd.DataFrame({\n",
    "    \"Games\": [\"I\", \"II\", \"III\", \"IV\", \"V\", \"VI\", \"VII\", \"VIII\", \"IX\", \"X\", \"XI\", \"XII\", \"XIII\", \"XIV\", \"XV\", \"XVI\",\n",
    "              \"XVII\", \"XVIII\", \"XIX\", \"XX\", \"XXI\", \"XXII\", \"XXIII\"],\n",
    "    \"Year\": [1924, 1928, 1932, 1936, 1948, 1952, 1956, 1960, 1964, 1968, 1972, 1976, 1980, 1984, 1988, 1992, 1994,\n",
    "             1998, 2002, 2006, 2010, 2014, 2018],\n",
    "    \"City, Country\": [\"Chamonix, France\", \"St. Moritz, Switzerland\", \"Lake Placid, United States\",\n",
    "                      \"Garmisch-Partenkirchen, Germany\", \"St. Moritz, Switzerland\", \"Oslo, Norway\",\n",
    "                      \"Cortina d'Ampezzo, Italy\", \"Squaw Valley, United States\", \"Innsbruck, Austria\",\n",
    "                      \"Grenoble, France\", \"Sapporo, Japan\", \"Innsbruck, Austria\", \"Lake Placid, United States\",\n",
    "                      \"Sarajevo, Yugoslavia\", \"Calgary, Canada\", \"Albertville, France\", \"Lillehammer, Norway\",\n",
    "                      \"Nagano, Japan\", \"Salt Lake City, United States\", \"Turin, Italy\", \"Vancouver, Canada\",\n",
    "                      \"Sochi, Russia\", \"Pyeongchang, South Korea\"],\n",
    "    \"Continent\": [\"Europe\", \"Europe\", \"North America\", \"Europe\", \"Europe\", \"Europe\", \"Europe\", \"North America\",\n",
    "                  \"Europe\", \"Europe\", \"Asia\", \"Europe\", \"North America\", \"Europe\", \"North America\", \"Europe\",\n",
    "                  \"Europe\", \"Asia\", \"North America\", \"Europe\", \"North America\", \"Europe\", \"Asia\"]\n",
    "})\n",
    "\n",
    "\n",
    "winter_raw\n"
   ]
  },
  {
   "cell_type": "markdown",
   "id": "205d8dd1",
   "metadata": {},
   "source": [
    "\n",
    "## Data Preparation\n",
    "\n",
    "Here is the historical data of Olympic host cities and their continents:\n",
    "\n",
    "### Summer Olympics\n",
    "We will first analyze the host continents for the Summer Olympic games.\n"
   ]
  },
  {
   "cell_type": "code",
   "execution_count": null,
   "id": "6080502a",
   "metadata": {},
   "outputs": [],
   "source": []
  },
  {
   "cell_type": "code",
   "execution_count": null,
   "id": "5a982f49",
   "metadata": {},
   "outputs": [
    {
     "data": {
      "text/html": [
       "<div>\n",
       "<style scoped>\n",
       "    .dataframe tbody tr th:only-of-type {\n",
       "        vertical-align: middle;\n",
       "    }\n",
       "\n",
       "    .dataframe tbody tr th {\n",
       "        vertical-align: top;\n",
       "    }\n",
       "\n",
       "    .dataframe thead th {\n",
       "        text-align: right;\n",
       "    }\n",
       "</style>\n",
       "<table border=\"1\" class=\"dataframe\">\n",
       "  <thead>\n",
       "    <tr style=\"text-align: right;\">\n",
       "      <th></th>\n",
       "      <th>Continent</th>\n",
       "      <th>Count</th>\n",
       "    </tr>\n",
       "  </thead>\n",
       "  <tbody>\n",
       "    <tr>\n",
       "      <th>0</th>\n",
       "      <td>Europe</td>\n",
       "      <td>16</td>\n",
       "    </tr>\n",
       "    <tr>\n",
       "      <th>1</th>\n",
       "      <td>North America</td>\n",
       "      <td>6</td>\n",
       "    </tr>\n",
       "    <tr>\n",
       "      <th>2</th>\n",
       "      <td>Asia</td>\n",
       "      <td>3</td>\n",
       "    </tr>\n",
       "    <tr>\n",
       "      <th>3</th>\n",
       "      <td>Australia</td>\n",
       "      <td>2</td>\n",
       "    </tr>\n",
       "    <tr>\n",
       "      <th>4</th>\n",
       "      <td>South America</td>\n",
       "      <td>1</td>\n",
       "    </tr>\n",
       "  </tbody>\n",
       "</table>\n",
       "</div>"
      ],
      "text/plain": [
       "       Continent  Count\n",
       "0         Europe     16\n",
       "1  North America      6\n",
       "2           Asia      3\n",
       "3      Australia      2\n",
       "4  South America      1"
      ]
     },
     "execution_count": 3,
     "metadata": {},
     "output_type": "execute_result"
    }
   ],
   "source": [
    "\n",
    "import pandas as pd\n",
    "\n",
    "summer_olympics = pd.DataFrame({\n",
    "    \"Continent\": [\"Europe\", \"North America\", \"Asia\", \"Australia\", \"South America\"],\n",
    "    \"Count\": [16, 6, 3, 2, 1]\n",
    "})\n",
    "\n",
    "summer_olympics\n"
   ]
  },
  {
   "cell_type": "markdown",
   "id": "580e539a",
   "metadata": {},
   "source": [
    "\n",
    "## Bar Graph: Summer Olympics Hosts\n",
    "\n",
    "Bar graphs allow us to quickly see which continent has hosted the most Summer Olympics.\n"
   ]
  },
  {
   "cell_type": "code",
   "execution_count": null,
   "id": "2806feae",
   "metadata": {},
   "outputs": [
    {
     "data": {
      "image/png": "[encoded data removed]",
      "text/plain": [
       "<Figure size 800x500 with 1 Axes>"
      ]
     },
     "metadata": {},
     "output_type": "display_data"
    }
   ],
   "source": [
    "\n",
    "import matplotlib.pyplot as plt\n",
    "\n",
    "plt.figure(figsize=(8, 5))\n",
    "plt.bar(summer_olympics[\"Continent\"], summer_olympics[\"Count\"], color=['#4C72B0', '#55A868', '#C44E52', '#8172B2', '#CCB974'])\n",
    "plt.title(\"Summer Olympics Hosts by Continent\", fontsize=14)\n",
    "plt.xlabel(\"Continent\", fontsize=12)\n",
    "plt.ylabel(\"Number of Times Hosted\", fontsize=12)\n",
    "plt.grid(axis='y', linestyle='--', alpha=0.7)\n",
    "plt.tight_layout()\n",
    "plt.show()\n"
   ]
  },
  {
   "cell_type": "markdown",
   "id": "4d06b19c",
   "metadata": {},
   "source": [
    "\n",
    "## Pie Chart: Summer Olympics Hosts\n",
    "\n",
    "Pie charts visualize proportions and make it easier to understand distribution.\n"
   ]
  },
  {
   "cell_type": "code",
   "execution_count": null,
   "id": "bd24fd81",
   "metadata": {},
   "outputs": [],
   "source": [
    "import nbformat\n",
    "print(nbformat.__version__)"
   ]
  },
  {
   "cell_type": "code",
   "execution_count": 5,
   "id": "b69321fa",
   "metadata": {},
   "outputs": [
    {
     "data": {
      "application/vnd.plotly.v1+json": {
       "config": {
        "plotlyServerURL": "https://plot.ly"
       },
       "data": [
        {
         "domain": {
          "x": [
           0,
           1
          ],
          "y": [
           0,
           1
          ]
         },
         "hovertemplate": "Continent=%{label}<br>Count=%{value}<extra></extra>",
         "labels": [
          "Europe",
          "North America",
          "Asia",
          "Australia",
          "South America"
         ],
         "legendgroup": "",
         "name": "",
         "showlegend": true,
         "type": "pie",
         "values": [
          16,
          6,
          3,
          2,
          1
         ]
        }
       ],
       "layout": {
        "legend": {
         "tracegroupgap": 0
        },
        "piecolorway": [
         "rgb(228,26,28)",
         "rgb(55,126,184)",
         "rgb(77,175,74)",
         "rgb(152,78,163)",
         "rgb(255,127,0)",
         "rgb(255,255,51)",
         "rgb(166,86,40)",
         "rgb(247,129,191)",
         "rgb(153,153,153)"
        ],
        "template": {
         "data": {
          "bar": [
           {
            "error_x": {
             "color": "#2a3f5f"
            },
            "error_y": {
             "color": "#2a3f5f"
            },
            "marker": {
             "line": {
              "color": "#E5ECF6",
              "width": 0.5
             },
             "pattern": {
              "fillmode": "overlay",
              "size": 10,
              "solidity": 0.2
             }
            },
            "type": "bar"
           }
          ],
          "barpolar": [
           {
            "marker": {
             "line": {
              "color": "#E5ECF6",
              "width": 0.5
             },
             "pattern": {
              "fillmode": "overlay",
              "size": 10,
              "solidity": 0.2
             }
            },
            "type": "barpolar"
           }
          ],
          "carpet": [
           {
            "aaxis": {
             "endlinecolor": "#2a3f5f",
             "gridcolor": "white",
             "linecolor": "white",
             "minorgridcolor": "white",
             "startlinecolor": "#2a3f5f"
            },
            "baxis": {
             "endlinecolor": "#2a3f5f",
             "gridcolor": "white",
             "linecolor": "white",
             "minorgridcolor": "white",
             "startlinecolor": "#2a3f5f"
            },
            "type": "carpet"
           }
          ],
          "choropleth": [
           {
            "colorbar": {
             "outlinewidth": 0,
             "ticks": ""
            },
            "type": "choropleth"
           }
          ],
          "contour": [
           {
            "colorbar": {
             "outlinewidth": 0,
             "ticks": ""
            },
            "colorscale": [
             [
              0,
              "#0d0887"
             ],
             [
              0.1111111111111111,
              "#46039f"
             ],
             [
              0.2222222222222222,
              "#7201a8"
             ],
             [
              0.3333333333333333,
              "#9c179e"
             ],
             [
              0.4444444444444444,
              "#bd3786"
             ],
             [
              0.5555555555555556,
              "#d8576b"
             ],
             [
              0.6666666666666666,
              "#ed7953"
             ],
             [
              0.7777777777777778,
              "#fb9f3a"
             ],
             [
              0.8888888888888888,
              "#fdca26"
             ],
             [
              1,
              "#f0f921"
             ]
            ],
            "type": "contour"
           }
          ],
          "contourcarpet": [
           {
            "colorbar": {
             "outlinewidth": 0,
             "ticks": ""
            },
            "type": "contourcarpet"
           }
          ],
          "heatmap": [
           {
            "colorbar": {
             "outlinewidth": 0,
             "ticks": ""
            },
            "colorscale": [
             [
              0,
              "#0d0887"
             ],
             [
              0.1111111111111111,
              "#46039f"
             ],
             [
              0.2222222222222222,
              "#7201a8"
             ],
             [
              0.3333333333333333,
              "#9c179e"
             ],
             [
              0.4444444444444444,
              "#bd3786"
             ],
             [
              0.5555555555555556,
              "#d8576b"
             ],
             [
              0.6666666666666666,
              "#ed7953"
             ],
             [
              0.7777777777777778,
              "#fb9f3a"
             ],
             [
              0.8888888888888888,
              "#fdca26"
             ],
             [
              1,
              "#f0f921"
             ]
            ],
            "type": "heatmap"
           }
          ],
          "heatmapgl": [
           {
            "colorbar": {
             "outlinewidth": 0,
             "ticks": ""
            },
            "colorscale": [
             [
              0,
              "#0d0887"
             ],
             [
              0.1111111111111111,
              "#46039f"
             ],
             [
              0.2222222222222222,
              "#7201a8"
             ],
             [
              0.3333333333333333,
              "#9c179e"
             ],
             [
              0.4444444444444444,
              "#bd3786"
             ],
             [
              0.5555555555555556,
              "#d8576b"
             ],
             [
              0.6666666666666666,
              "#ed7953"
             ],
             [
              0.7777777777777778,
              "#fb9f3a"
             ],
             [
              0.8888888888888888,
              "#fdca26"
             ],
             [
              1,
              "#f0f921"
             ]
            ],
            "type": "heatmapgl"
           }
          ],
          "histogram": [
           {
            "marker": {
             "pattern": {
              "fillmode": "overlay",
              "size": 10,
              "solidity": 0.2
             }
            },
            "type": "histogram"
           }
          ],
          "histogram2d": [
           {
            "colorbar": {
             "outlinewidth": 0,
             "ticks": ""
            },
            "colorscale": [
             [
              0,
              "#0d0887"
             ],
             [
              0.1111111111111111,
              "#46039f"
             ],
             [
              0.2222222222222222,
              "#7201a8"
             ],
             [
              0.3333333333333333,
              "#9c179e"
             ],
             [
              0.4444444444444444,
              "#bd3786"
             ],
             [
              0.5555555555555556,
              "#d8576b"
             ],
             [
              0.6666666666666666,
              "#ed7953"
             ],
             [
              0.7777777777777778,
              "#fb9f3a"
             ],
             [
              0.8888888888888888,
              "#fdca26"
             ],
             [
              1,
              "#f0f921"
             ]
            ],
            "type": "histogram2d"
           }
          ],
          "histogram2dcontour": [
           {
            "colorbar": {
             "outlinewidth": 0,
             "ticks": ""
            },
            "colorscale": [
             [
              0,
              "#0d0887"
             ],
             [
              0.1111111111111111,
              "#46039f"
             ],
             [
              0.2222222222222222,
              "#7201a8"
             ],
             [
              0.3333333333333333,
              "#9c179e"
             ],
             [
              0.4444444444444444,
              "#bd3786"
             ],
             [
              0.5555555555555556,
              "#d8576b"
             ],
             [
              0.6666666666666666,
              "#ed7953"
             ],
             [
              0.7777777777777778,
              "#fb9f3a"
             ],
             [
              0.8888888888888888,
              "#fdca26"
             ],
             [
              1,
              "#f0f921"
             ]
            ],
            "type": "histogram2dcontour"
           }
          ],
          "mesh3d": [
           {
            "colorbar": {
             "outlinewidth": 0,
             "ticks": ""
            },
            "type": "mesh3d"
           }
          ],
          "parcoords": [
           {
            "line": {
             "colorbar": {
              "outlinewidth": 0,
              "ticks": ""
             }
            },
            "type": "parcoords"
           }
          ],
          "pie": [
           {
            "automargin": true,
            "type": "pie"
           }
          ],
          "scatter": [
           {
            "fillpattern": {
             "fillmode": "overlay",
             "size": 10,
             "solidity": 0.2
            },
            "type": "scatter"
           }
          ],
          "scatter3d": [
           {
            "line": {
             "colorbar": {
              "outlinewidth": 0,
              "ticks": ""
             }
            },
            "marker": {
             "colorbar": {
              "outlinewidth": 0,
              "ticks": ""
             }
            },
            "type": "scatter3d"
           }
          ],
          "scattercarpet": [
           {
            "marker": {
             "colorbar": {
              "outlinewidth": 0,
              "ticks": ""
             }
            },
            "type": "scattercarpet"
           }
          ],
          "scattergeo": [
           {
            "marker": {
             "colorbar": {
              "outlinewidth": 0,
              "ticks": ""
             }
            },
            "type": "scattergeo"
           }
          ],
          "scattergl": [
           {
            "marker": {
             "colorbar": {
              "outlinewidth": 0,
              "ticks": ""
             }
            },
            "type": "scattergl"
           }
          ],
          "scattermapbox": [
           {
            "marker": {
             "colorbar": {
              "outlinewidth": 0,
              "ticks": ""
             }
            },
            "type": "scattermapbox"
           }
          ],
          "scatterpolar": [
           {
            "marker": {
             "colorbar": {
              "outlinewidth": 0,
              "ticks": ""
             }
            },
            "type": "scatterpolar"
           }
          ],
          "scatterpolargl": [
           {
            "marker": {
             "colorbar": {
              "outlinewidth": 0,
              "ticks": ""
             }
            },
            "type": "scatterpolargl"
           }
          ],
          "scatterternary": [
           {
            "marker": {
             "colorbar": {
              "outlinewidth": 0,
              "ticks": ""
             }
            },
            "type": "scatterternary"
           }
          ],
          "surface": [
           {
            "colorbar": {
             "outlinewidth": 0,
             "ticks": ""
            },
            "colorscale": [
             [
              0,
              "#0d0887"
             ],
             [
              0.1111111111111111,
              "#46039f"
             ],
             [
              0.2222222222222222,
              "#7201a8"
             ],
             [
              0.3333333333333333,
              "#9c179e"
             ],
             [
              0.4444444444444444,
              "#bd3786"
             ],
             [
              0.5555555555555556,
              "#d8576b"
             ],
             [
              0.6666666666666666,
              "#ed7953"
             ],
             [
              0.7777777777777778,
              "#fb9f3a"
             ],
             [
              0.8888888888888888,
              "#fdca26"
             ],
             [
              1,
              "#f0f921"
             ]
            ],
            "type": "surface"
           }
          ],
          "table": [
           {
            "cells": {
             "fill": {
              "color": "#EBF0F8"
             },
             "line": {
              "color": "white"
             }
            },
            "header": {
             "fill": {
              "color": "#C8D4E3"
             },
             "line": {
              "color": "white"
             }
            },
            "type": "table"
           }
          ]
         },
         "layout": {
          "annotationdefaults": {
           "arrowcolor": "#2a3f5f",
           "arrowhead": 0,
           "arrowwidth": 1
          },
          "autotypenumbers": "strict",
          "coloraxis": {
           "colorbar": {
            "outlinewidth": 0,
            "ticks": ""
           }
          },
          "colorscale": {
           "diverging": [
            [
             0,
             "#8e0152"
            ],
            [
             0.1,
             "#c51b7d"
            ],
            [
             0.2,
             "#de77ae"
            ],
            [
             0.3,
             "#f1b6da"
            ],
            [
             0.4,
             "#fde0ef"
            ],
            [
             0.5,
             "#f7f7f7"
            ],
            [
             0.6,
             "#e6f5d0"
            ],
            [
             0.7,
             "#b8e186"
            ],
            [
             0.8,
             "#7fbc41"
            ],
            [
             0.9,
             "#4d9221"
            ],
            [
             1,
             "#276419"
            ]
           ],
           "sequential": [
            [
             0,
             "#0d0887"
            ],
            [
             0.1111111111111111,
             "#46039f"
            ],
            [
             0.2222222222222222,
             "#7201a8"
            ],
            [
             0.3333333333333333,
             "#9c179e"
            ],
            [
             0.4444444444444444,
             "#bd3786"
            ],
            [
             0.5555555555555556,
             "#d8576b"
            ],
            [
             0.6666666666666666,
             "#ed7953"
            ],
            [
             0.7777777777777778,
             "#fb9f3a"
            ],
            [
             0.8888888888888888,
             "#fdca26"
            ],
            [
             1,
             "#f0f921"
            ]
           ],
           "sequentialminus": [
            [
             0,
             "#0d0887"
            ],
            [
             0.1111111111111111,
             "#46039f"
            ],
            [
             0.2222222222222222,
             "#7201a8"
            ],
            [
             0.3333333333333333,
             "#9c179e"
            ],
            [
             0.4444444444444444,
             "#bd3786"
            ],
            [
             0.5555555555555556,
             "#d8576b"
            ],
            [
             0.6666666666666666,
             "#ed7953"
            ],
            [
             0.7777777777777778,
             "#fb9f3a"
            ],
            [
             0.8888888888888888,
             "#fdca26"
            ],
            [
             1,
             "#f0f921"
            ]
           ]
          },
          "colorway": [
           "#636efa",
           "#EF553B",
           "#00cc96",
           "#ab63fa",
           "#FFA15A",
           "#19d3f3",
           "#FF6692",
           "#B6E880",
           "#FF97FF",
           "#FECB52"
          ],
          "font": {
           "color": "#2a3f5f"
          },
          "geo": {
           "bgcolor": "white",
           "lakecolor": "white",
           "landcolor": "#E5ECF6",
           "showlakes": true,
           "showland": true,
           "subunitcolor": "white"
          },
          "hoverlabel": {
           "align": "left"
          },
          "hovermode": "closest",
          "mapbox": {
           "style": "light"
          },
          "paper_bgcolor": "white",
          "plot_bgcolor": "#E5ECF6",
          "polar": {
           "angularaxis": {
            "gridcolor": "white",
            "linecolor": "white",
            "ticks": ""
           },
           "bgcolor": "#E5ECF6",
           "radialaxis": {
            "gridcolor": "white",
            "linecolor": "white",
            "ticks": ""
           }
          },
          "scene": {
           "xaxis": {
            "backgroundcolor": "#E5ECF6",
            "gridcolor": "white",
            "gridwidth": 2,
            "linecolor": "white",
            "showbackground": true,
            "ticks": "",
            "zerolinecolor": "white"
           },
           "yaxis": {
            "backgroundcolor": "#E5ECF6",
            "gridcolor": "white",
            "gridwidth": 2,
            "linecolor": "white",
            "showbackground": true,
            "ticks": "",
            "zerolinecolor": "white"
           },
           "zaxis": {
            "backgroundcolor": "#E5ECF6",
            "gridcolor": "white",
            "gridwidth": 2,
            "linecolor": "white",
            "showbackground": true,
            "ticks": "",
            "zerolinecolor": "white"
           }
          },
          "shapedefaults": {
           "line": {
            "color": "#2a3f5f"
           }
          },
          "ternary": {
           "aaxis": {
            "gridcolor": "white",
            "linecolor": "white",
            "ticks": ""
           },
           "baxis": {
            "gridcolor": "white",
            "linecolor": "white",
            "ticks": ""
           },
           "bgcolor": "#E5ECF6",
           "caxis": {
            "gridcolor": "white",
            "linecolor": "white",
            "ticks": ""
           }
          },
          "title": {
           "x": 0.05
          },
          "xaxis": {
           "automargin": true,
           "gridcolor": "white",
           "linecolor": "white",
           "ticks": "",
           "title": {
            "standoff": 15
           },
           "zerolinecolor": "white",
           "zerolinewidth": 2
          },
          "yaxis": {
           "automargin": true,
           "gridcolor": "white",
           "linecolor": "white",
           "ticks": "",
           "title": {
            "standoff": 15
           },
           "zerolinecolor": "white",
           "zerolinewidth": 2
          }
         }
        },
        "title": {
         "text": "Summer Olympics Hosts by Continent"
        }
       }
      }
     },
     "metadata": {},
     "output_type": "display_data"
    }
   ],
   "source": [
    "import plotly.express as px\n",
    "\n",
    "# Pie Chart for Summer Olympics\n",
    "fig = px.pie(summer_olympics, names=\"Continent\", values=\"Count\",\n",
    "             title=\"Summer Olympics Hosts by Continent\",\n",
    "             color_discrete_sequence=px.colors.qualitative.Set1)\n",
    "fig.show()"
   ]
  },
  {
   "cell_type": "markdown",
   "id": "4d2460ab",
   "metadata": {},
   "source": [
    "## Winter Olympics Data"
   ]
  },
  {
   "cell_type": "markdown",
   "id": "cc9a791b",
   "metadata": {},
   "source": [
    "\n",
    "Here is the data for Winter Olympics hosts:\n",
    "\n",
    "### Winter Olympics Host Data Table\n"
   ]
  },
  {
   "cell_type": "code",
   "execution_count": null,
   "id": "67a462e8",
   "metadata": {},
   "outputs": [
    {
     "data": {
      "text/html": [
       "<div>\n",
       "<style scoped>\n",
       "    .dataframe tbody tr th:only-of-type {\n",
       "        vertical-align: middle;\n",
       "    }\n",
       "\n",
       "    .dataframe tbody tr th {\n",
       "        vertical-align: top;\n",
       "    }\n",
       "\n",
       "    .dataframe thead th {\n",
       "        text-align: right;\n",
       "    }\n",
       "</style>\n",
       "<table border=\"1\" class=\"dataframe\">\n",
       "  <thead>\n",
       "    <tr style=\"text-align: right;\">\n",
       "      <th></th>\n",
       "      <th>Continent</th>\n",
       "      <th>Count</th>\n",
       "    </tr>\n",
       "  </thead>\n",
       "  <tbody>\n",
       "    <tr>\n",
       "      <th>0</th>\n",
       "      <td>Europe</td>\n",
       "      <td>14</td>\n",
       "    </tr>\n",
       "    <tr>\n",
       "      <th>1</th>\n",
       "      <td>North America</td>\n",
       "      <td>6</td>\n",
       "    </tr>\n",
       "    <tr>\n",
       "      <th>2</th>\n",
       "      <td>Asia</td>\n",
       "      <td>3</td>\n",
       "    </tr>\n",
       "  </tbody>\n",
       "</table>\n",
       "</div>"
      ],
      "text/plain": [
       "       Continent  Count\n",
       "0         Europe     14\n",
       "1  North America      6\n",
       "2           Asia      3"
      ]
     },
     "execution_count": 6,
     "metadata": {},
     "output_type": "execute_result"
    }
   ],
   "source": [
    "\n",
    "\n",
    "winter_olympics = pd.DataFrame({\n",
    "    \"Continent\": [\"Europe\", \"North America\", \"Asia\"],\n",
    "    \"Count\": [14, 6, 3]\n",
    "})\n",
    "\n",
    "\n",
    "winter_olympics\n"
   ]
  },
  {
   "cell_type": "markdown",
   "id": "a025edec",
   "metadata": {},
   "source": [
    "## Bar Chart: Winter Olympics Hosts"
   ]
  },
  {
   "cell_type": "markdown",
   "id": "8f48e5db",
   "metadata": {},
   "source": [
    "\n",
    "Bar graph to visualize Winter Olympics hosts by continent.\n"
   ]
  },
  {
   "cell_type": "code",
   "execution_count": null,
   "id": "7c2b2fab",
   "metadata": {},
   "outputs": [
    {
     "data": {
      "image/png": "[encoded data removed]",
      "text/plain": [
       "<Figure size 800x500 with 1 Axes>"
      ]
     },
     "metadata": {},
     "output_type": "display_data"
    }
   ],
   "source": [
    "\n",
    "\n",
    "plt.figure(figsize=(8, 5))\n",
    "plt.barh(winter_olympics[\"Continent\"], winter_olympics[\"Count\"], color=['#4C72B0', '#55A868', '#C44E52'])\n",
    "plt.title(\"Winter Olympics Hosts by Continent\", fontsize=14)\n",
    "plt.xlabel(\"Number of Times Hosted\", fontsize=12)\n",
    "plt.ylabel(\"Continent\", fontsize=12)\n",
    "plt.grid(axis='x', linestyle='--', alpha=0.7)\n",
    "plt.tight_layout()\n",
    "plt.show()\n"
   ]
  },
  {
   "cell_type": "markdown",
   "id": "8335f934",
   "metadata": {},
   "source": [
    "## Combined Insights: Summer vs Winter Olympics"
   ]
  },
  {
   "cell_type": "markdown",
   "id": "123c1c94",
   "metadata": {},
   "source": [
    "\n",
    "A side-by-side comparison of Summer and Winter Olympics hosts.\n"
   ]
  },
  {
   "cell_type": "code",
   "execution_count": null,
   "id": "4f1f73fc",
   "metadata": {},
   "outputs": [
    {
     "data": {
      "image/png": "[encoded data removed]",
      "text/plain": [
       "<Figure size 1000x600 with 1 Axes>"
      ]
     },
     "metadata": {},
     "output_type": "display_data"
    }
   ],
   "source": [
    "import seaborn as sns\n",
    "\n",
    "comparison_data = pd.DataFrame({\n",
    "    \"Continent\": [\"Europe\", \"North America\", \"Asia\", \"Australia\", \"South America\"],\n",
    "    \"Summer\": [16, 6, 3, 2, 1],\n",
    "    \"Winter\": [14, 6, 3, 0, 0]\n",
    "})\n",
    "\n",
    "comparison_data_melted = comparison_data.melt(id_vars=[\"Continent\"], var_name=\"Season\", value_name=\"Count\")\n",
    "\n",
    "\n",
    "plt.figure(figsize=(10, 6))\n",
    "sns.barplot(x=\"Continent\", y=\"Count\", hue=\"Season\", data=comparison_data_melted, palette=['#4C72B0', '#55A868'])\n",
    "plt.title(\"Summer vs Winter Olympics Hosts by Continent\", fontsize=14)\n",
    "plt.xlabel(\"Continent\", fontsize=12)\n",
    "plt.ylabel(\"Number of Times Hosted\", fontsize=12)\n",
    "plt.legend(title=\"Season\")\n",
    "plt.grid(axis='y', linestyle='--', alpha=0.7)\n",
    "plt.tight_layout()\n",
    "plt.show()\n"
   ]
  },
  {
   "cell_type": "code",
   "execution_count": null,
   "id": "1750c62c",
   "metadata": {},
   "outputs": [],
   "source": []
  }
 ],
 "metadata": {
  "kernelspec": {
   "display_name": "pd-env",
   "language": "python",
   "name": "python3"
  },
  "language_info": {
   "codemirror_mode": {
    "name": "ipython",
    "version": 3
   },
   "file_extension": ".py",
   "mimetype": "text/x-python",
   "name": "python",
   "nbconvert_exporter": "python",
   "pygments_lexer": "ipython3",
   "version": "3.11.4"
  }
 },
 "nbformat": 4,
 "nbformat_minor": 5
}
