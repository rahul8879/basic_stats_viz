{
 "cells": [
  {
   "cell_type": "markdown",
   "id": "b44109ae",
   "metadata": {},
   "source": [
    "# Exploring Stock Returns "
   ]
  },
  {
   "cell_type": "markdown",
   "id": "03a45c2c",
   "metadata": {},
   "source": [
    "\n",
    "## Objective\n",
    "\n",
    "In this notebook, we will analyze the daily returns of two stocks: **BEML** and **Glaxo**. The goal is to understand the concept of **normal distribution** and its applications in measuring **stock risk**.\n",
    "\n",
    "### What we will do:\n",
    "1. Compute daily returns for the stocks.\n",
    "2. Visualize their distributions.\n",
    "3. Compare the risk of both stocks using standard deviation.\n",
    "4. Calculate thresholds for significant gains or losses.\n"
   ]
  },
  {
   "cell_type": "code",
   "execution_count": 1,
   "id": "b665fa5d",
   "metadata": {},
   "outputs": [
    {
     "data": {
      "text/html": [
       "<div>\n",
       "<style scoped>\n",
       "    .dataframe tbody tr th:only-of-type {\n",
       "        vertical-align: middle;\n",
       "    }\n",
       "\n",
       "    .dataframe tbody tr th {\n",
       "        vertical-align: top;\n",
       "    }\n",
       "\n",
       "    .dataframe thead th {\n",
       "        text-align: right;\n",
       "    }\n",
       "</style>\n",
       "<table border=\"1\" class=\"dataframe\">\n",
       "  <thead>\n",
       "    <tr style=\"text-align: right;\">\n",
       "      <th></th>\n",
       "      <th>Date</th>\n",
       "      <th>Open</th>\n",
       "      <th>High</th>\n",
       "      <th>Low</th>\n",
       "      <th>Last</th>\n",
       "      <th>Close</th>\n",
       "      <th>Total Trade Quantity</th>\n",
       "      <th>Turnover (Lacs)</th>\n",
       "    </tr>\n",
       "  </thead>\n",
       "  <tbody>\n",
       "    <tr>\n",
       "      <th>0</th>\n",
       "      <td>2010-01-04</td>\n",
       "      <td>1121.0</td>\n",
       "      <td>1151.00</td>\n",
       "      <td>1121.00</td>\n",
       "      <td>1134.0</td>\n",
       "      <td>1135.60</td>\n",
       "      <td>101651.0</td>\n",
       "      <td>1157.18</td>\n",
       "    </tr>\n",
       "    <tr>\n",
       "      <th>1</th>\n",
       "      <td>2010-01-05</td>\n",
       "      <td>1146.8</td>\n",
       "      <td>1149.00</td>\n",
       "      <td>1128.75</td>\n",
       "      <td>1135.0</td>\n",
       "      <td>1134.60</td>\n",
       "      <td>59504.0</td>\n",
       "      <td>676.47</td>\n",
       "    </tr>\n",
       "    <tr>\n",
       "      <th>2</th>\n",
       "      <td>2010-01-06</td>\n",
       "      <td>1140.0</td>\n",
       "      <td>1164.25</td>\n",
       "      <td>1130.05</td>\n",
       "      <td>1137.0</td>\n",
       "      <td>1139.60</td>\n",
       "      <td>128908.0</td>\n",
       "      <td>1482.84</td>\n",
       "    </tr>\n",
       "    <tr>\n",
       "      <th>3</th>\n",
       "      <td>2010-01-07</td>\n",
       "      <td>1142.0</td>\n",
       "      <td>1159.40</td>\n",
       "      <td>1119.20</td>\n",
       "      <td>1141.0</td>\n",
       "      <td>1144.15</td>\n",
       "      <td>117871.0</td>\n",
       "      <td>1352.98</td>\n",
       "    </tr>\n",
       "    <tr>\n",
       "      <th>4</th>\n",
       "      <td>2010-01-08</td>\n",
       "      <td>1156.0</td>\n",
       "      <td>1172.00</td>\n",
       "      <td>1140.00</td>\n",
       "      <td>1141.2</td>\n",
       "      <td>1144.05</td>\n",
       "      <td>170063.0</td>\n",
       "      <td>1971.42</td>\n",
       "    </tr>\n",
       "  </tbody>\n",
       "</table>\n",
       "</div>"
      ],
      "text/plain": [
       "         Date    Open     High      Low    Last    Close  \\\n",
       "0  2010-01-04  1121.0  1151.00  1121.00  1134.0  1135.60   \n",
       "1  2010-01-05  1146.8  1149.00  1128.75  1135.0  1134.60   \n",
       "2  2010-01-06  1140.0  1164.25  1130.05  1137.0  1139.60   \n",
       "3  2010-01-07  1142.0  1159.40  1119.20  1141.0  1144.15   \n",
       "4  2010-01-08  1156.0  1172.00  1140.00  1141.2  1144.05   \n",
       "\n",
       "   Total Trade Quantity  Turnover (Lacs)  \n",
       "0              101651.0          1157.18  \n",
       "1               59504.0           676.47  \n",
       "2              128908.0          1482.84  \n",
       "3              117871.0          1352.98  \n",
       "4              170063.0          1971.42  "
      ]
     },
     "execution_count": 1,
     "metadata": {},
     "output_type": "execute_result"
    }
   ],
   "source": [
    "# Importing necessary libraries\n",
    "import pandas as pd\n",
    "import numpy as np\n",
    "import matplotlib.pyplot as plt\n",
    "import seaborn as sns\n",
    "\n",
    "# Load the datasets\n",
    "beml_data = pd.read_csv('../Data/BEML.csv')\n",
    "glaxo_data = pd.read_csv('../Data//GLAXO.csv')\n",
    "\n",
    "# Display the first few rows of both datasets\n",
    "beml_data.head(5)"
   ]
  },
  {
   "cell_type": "markdown",
   "id": "871b33bb",
   "metadata": {},
   "source": [
    "\n",
    "### Class Question:\n",
    "- What information does the `Close` column provide? Why might we use this column to calculate daily returns?\n"
   ]
  },
  {
   "cell_type": "code",
   "execution_count": 5,
   "id": "4f22b2b2",
   "metadata": {},
   "outputs": [
    {
     "data": {
      "text/plain": [
       "(count    1738.000000\n",
       " mean        0.027075\n",
       " std         2.643083\n",
       " min       -13.394047\n",
       " 25%        -1.373597\n",
       " 50%        -0.154098\n",
       " 75%         1.198463\n",
       " max        19.832941\n",
       " Name: Daily Return, dtype: float64,\n",
       " count    1738.000000\n",
       " mean        0.038604\n",
       " std         1.336054\n",
       " min        -7.471894\n",
       " 25%        -0.585048\n",
       " 50%        -0.002068\n",
       " 75%         0.582551\n",
       " max        18.919578\n",
       " Name: Daily Return, dtype: float64)"
      ]
     },
     "execution_count": 5,
     "metadata": {},
     "output_type": "execute_result"
    }
   ],
   "source": [
    "# Compute daily returns for both stocks\n",
    "beml_data['Daily Return'] = beml_data['Close'].pct_change() * 100  # Daily returns in percentage\n",
    "glaxo_data['Daily Return'] = glaxo_data['Close'].pct_change() * 100  # Daily returns in percentage\n",
    "\n",
    "# Drop NaN values\n",
    "beml_data.dropna(subset=['Daily Return'], inplace=True)\n",
    "glaxo_data.dropna(subset=['Daily Return'], inplace=True)\n",
    "\n",
    "# Display summary statistics of daily returns\n",
    "beml_data['Daily Return'].describe(), glaxo_data['Daily Return'].describe()\n"
   ]
  },
  {
   "cell_type": "markdown",
   "id": "1a019c6e",
   "metadata": {},
   "source": [
    "\n",
    "### Key Observations:\n",
    "1. **BEML:** The standard deviation of daily returns is higher, indicating more volatility (risk).\n",
    "2. **Glaxo:** The standard deviation is lower, meaning it's a less risky stock.\n",
    "\n",
    "### Class Question:\n",
    "- What does the mean value of daily returns signify? Why is it close to zero for most stocks?\n"
   ]
  },
  {
   "cell_type": "code",
   "execution_count": 6,
   "id": "51844ccf",
   "metadata": {},
   "outputs": [
    {
     "data": {
      "image/png": "[encoded data removed]",
      "text/plain": [
       "<Figure size 1000x600 with 1 Axes>"
      ]
     },
     "metadata": {},
     "output_type": "display_data"
    }
   ],
   "source": [
    "# Visualize the distributions of daily returns\n",
    "plt.figure(figsize=(10, 6))\n",
    "sns.kdeplot(beml_data['Daily Return'], label=\"BEML\", color=\"orange\", fill=True)\n",
    "sns.kdeplot(glaxo_data['Daily Return'], label=\"Glaxo\", color=\"blue\", fill=True)\n",
    "plt.title(\"Density Plot of Daily Returns for BEML and Glaxo\")\n",
    "plt.xlabel(\"Daily Return (%)\")\n",
    "plt.ylabel(\"Density\")\n",
    "plt.legend()\n",
    "plt.grid(True)\n",
    "plt.show()\n"
   ]
  },
  {
   "cell_type": "markdown",
   "id": "f96bb13e",
   "metadata": {},
   "source": [
    "\n",
    "### Analysis:\n",
    "- The blue curve (Glaxo) is narrower, meaning it has less variation in daily returns.\n",
    "- The orange curve (BEML) is wider, suggesting higher volatility.\n",
    "\n",
    "### Class Question:\n",
    "- How can we interpret the risk of a stock from the shape of its return distribution?\n"
   ]
  },
  {
   "cell_type": "code",
   "execution_count": 11,
   "id": "5b94541f",
   "metadata": {},
   "outputs": [
    {
     "data": {
      "text/plain": [
       "(np.float64(0.13033807841767375), np.float64(0.013327806353720772))"
      ]
     },
     "execution_count": 11,
     "metadata": {},
     "output_type": "execute_result"
    }
   ],
   "source": [
    "from scipy.stats import norm\n",
    "\n",
    "mean_beml = beml_data['Daily Return'].mean()\n",
    "std_beml = beml_data['Daily Return'].std()\n",
    "threshold = 3  # Percentage\n",
    "\n",
    "# Calculate z-scores for both stocks\n",
    "z_beml = (threshold - mean_beml) / std_beml\n",
    "z_glaxo = (threshold - glaxo_data['Daily Return'].mean()\n",
    "           ) / glaxo_data['Daily Return'].std()\n",
    "\n",
    "# Compute probabilities for returns > 3%\n",
    "prob_beml = 1 - norm.cdf(z_beml)  # Greater than 3%\n",
    "prob_glaxo = 1 - norm.cdf(z_glaxo)  # Greater than 3%\n",
    "\n",
    "prob_beml, prob_glaxo"
   ]
  },
  {
   "cell_type": "code",
   "execution_count": 10,
   "id": "fd804bf1",
   "metadata": {},
   "outputs": [
    {
     "data": {
      "text/plain": [
       "(np.float64(0.22769829484075355), np.float64(0.07104511457618579))"
      ]
     },
     "execution_count": 10,
     "metadata": {},
     "output_type": "execute_result"
    }
   ],
   "source": [
    "from scipy.stats import norm\n",
    "\n",
    "# Calculate 2% loss or gain thresholds for BEML\n",
    "mean_beml = beml_data['Daily Return'].mean()\n",
    "std_beml = beml_data['Daily Return'].std()\n",
    "threshold = 2  # Percentage\n",
    "\n",
    "# Calculate z-scores for both stocks\n",
    "z_beml = (threshold - mean_beml) / std_beml\n",
    "z_glaxo = (threshold - glaxo_data['Daily Return'].mean()\n",
    "           ) / glaxo_data['Daily Return'].std()\n",
    "\n",
    "# Compute probabilities for returns > 3%\n",
    "prob_beml = 1 - norm.cdf(z_beml)  # Greater than 3%\n",
    "prob_glaxo = 1 - norm.cdf(z_glaxo)  # Greater than 3%\n",
    "\n",
    "prob_beml, prob_glaxo"
   ]
  },
  {
   "cell_type": "code",
   "execution_count": 7,
   "id": "fded0dbb",
   "metadata": {},
   "outputs": [
    {
     "data": {
      "text/plain": [
       "(np.float64(-5.259091485789251), np.float64(5.313241101600698))"
      ]
     },
     "execution_count": 7,
     "metadata": {},
     "output_type": "execute_result"
    }
   ],
   "source": [
    "\n",
    "\n",
    "# 2% loss and gain thresholds\n",
    "loss_threshold = mean_beml - 2 * std_beml\n",
    "gain_threshold = mean_beml + 2 * std_beml\n",
    "\n",
    "loss_threshold, gain_threshold\n"
   ]
  },
  {
   "cell_type": "markdown",
   "id": "a3e7c197",
   "metadata": {},
   "source": [
    "\n",
    "### Thresholds for BEML:\n",
    "- **2% Loss Threshold**: -5.26%\n",
    "- **2% Gain Threshold**: 5.31%\n",
    "\n",
    "This means that any daily return below -5.26% is a significant loss, while any return above 5.31% is a significant gain.\n",
    "\n",
    "### Class Activity:\n",
    "- Calculate the 2% loss and gain thresholds for Glaxo stock using the same method.\n"
   ]
  },
  {
   "cell_type": "code",
   "execution_count": 8,
   "id": "7aae8dc6",
   "metadata": {},
   "outputs": [
    {
     "data": {
      "text/plain": [
       "(np.float64(-2.6335036021914386), np.float64(2.7107118187098966))"
      ]
     },
     "execution_count": 8,
     "metadata": {},
     "output_type": "execute_result"
    }
   ],
   "source": [
    "# Calculate 2% loss and gain thresholds for Glaxo\n",
    "mean_glaxo = glaxo_data['Daily Return'].mean()\n",
    "std_glaxo = glaxo_data['Daily Return'].std()\n",
    "\n",
    "# 2% loss and gain thresholds\n",
    "loss_threshold_glaxo = mean_glaxo - 2 * std_glaxo\n",
    "gain_threshold_glaxo = mean_glaxo + 2 * std_glaxo\n",
    "\n",
    "loss_threshold_glaxo, gain_threshold_glaxo\n"
   ]
  },
  {
   "cell_type": "markdown",
   "id": "483997f3",
   "metadata": {},
   "source": [
    "\n",
    "### Conclusion:\n",
    "1. **Risk Comparison**: BEML is riskier than Glaxo based on standard deviation and the wider spread of its returns.\n",
    "2. **Practical Insights**: Thresholds help us understand significant changes in stock prices, aiding in decision-making.\n"
   ]
  },
  {
   "cell_type": "markdown",
   "id": "8d39e0ce",
   "metadata": {},
   "source": []
  }
 ],
 "metadata": {
  "kernelspec": {
   "display_name": "pd-env",
   "language": "python",
   "name": "python3"
  },
  "language_info": {
   "codemirror_mode": {
    "name": "ipython",
    "version": 3
   },
   "file_extension": ".py",
   "mimetype": "text/x-python",
   "name": "python",
   "nbconvert_exporter": "python",
   "pygments_lexer": "ipython3",
   "version": "3.11.4"
  }
 },
 "nbformat": 4,
 "nbformat_minor": 5
}
